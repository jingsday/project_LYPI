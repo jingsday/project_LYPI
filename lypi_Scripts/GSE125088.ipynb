{
 "cells": [
  {
   "cell_type": "markdown",
   "id": "9eb0b666-f6c1-4cca-9d0b-6f6256c9a1c9",
   "metadata": {},
   "source": [
    "Series GSE125088\t\tQuery DataSets for GSE125088\n",
    "Status\tPublic on Jan 16, 2019\n",
    "Title\tCharacterization of embryonic osteoclast precursors\n",
    "Organism\tMus musculus\n",
    "Experiment type\tExpression profiling by high throughput sequencing\n",
    "Summary\tEmbryonically established osteoclast precursors expressing tdTomato reporter gene were analyzed by single cell RNA-sequencing. Data showed that hematopoietic stem cell independent yolk-sac erythromyeloid progenitors produced embryonic osteoclast precursors.\n",
    " \t\n",
    "Overall design\tMacrophage/ monocyte lineage cells isolated from E14.5 whole body were subjected to the sc RNA-seq. All samples included tdTomato expressing cells derived from E8.5 or E9.5 erythromyeloid progenitors in the yolk-sac."
   ]
  },
  {
   "cell_type": "code",
   "execution_count": 2,
   "id": "425e5797-77b2-4157-9059-15f11425db01",
   "metadata": {},
   "outputs": [],
   "source": [
    "import pandas as pd\n",
    "import gzip\n",
    "import scipy\n",
    "import anndata as ad\n",
    "import pybiomart\n",
    "import scanpy as sc"
   ]
  },
  {
   "cell_type": "code",
   "execution_count": 3,
   "id": "47e2f3ef-56a3-4b38-943e-fb23287356c7",
   "metadata": {},
   "outputs": [],
   "source": [
    "barcodes = pd.read_csv(\"/home/roger/project_LYPI/data/GSE125088_Cx3cr1_Csf1r_new.barcodes.tsv.gz\", sep=\"\\t\", compression=\"gzip\", header=None)\n",
    "features = pd.read_csv(\"/home/roger/project_LYPI/data/GSE125088_Cx3cr1_Csf1r_new.features.tsv.gz\", sep=\"\\t\", compression=\"gzip\", header=None)\n",
    "\n",
    "with gzip.open(\"/home/roger/project_LYPI/data/GSE125088_Cx3cr1_Csf1r_new.matrix.mtx.gz\", \"rt\") as f:\n",
    "    sparse_matrix = scipy.io.mmread(f)\n",
    "matrix = sparse_matrix.todense()"
   ]
  },
  {
   "cell_type": "code",
   "execution_count": 4,
   "id": "fd8af90a-c979-46f8-a4f4-274908f87ccc",
   "metadata": {},
   "outputs": [
    {
     "data": {
      "text/plain": [
       "(31054, 39048)"
      ]
     },
     "execution_count": 4,
     "metadata": {},
     "output_type": "execute_result"
    }
   ],
   "source": [
    "matrix.shape"
   ]
  },
  {
   "cell_type": "code",
   "execution_count": 5,
   "id": "d3206d6a-c75f-4745-a5c8-730a48447949",
   "metadata": {},
   "outputs": [],
   "source": [
    "# Create the AnnData object. # They do not have metadata????\n",
    "adata = ad.AnnData(X=matrix.T)\n",
    "adata.obs_names = barcodes.iloc[:, 0].values\n",
    "adata.var_names = features.iloc[:, 1].values"
   ]
  },
  {
   "cell_type": "code",
   "execution_count": null,
   "id": "4f0d0e12-3edb-482d-a0e8-260ad2b9ce56",
   "metadata": {},
   "outputs": [],
   "source": [
    "# Basic pre-processing steps   \n",
    "adata.layers[\"counts\"] = adata.X.copy()\n",
    "sc.pp.normalize_total(adata)\n",
    "sc.pp.log1p(adata)\n",
    "sc.pp.highly_variable_genes(adata)\n",
    "sc.tl.pca(adata)\n",
    "sc.pp.neighbors(adata)\n",
    "sc.tl.umap(adata)\n",
    "sc.tl.leiden(adata, resolution=1)"
   ]
  },
  {
   "cell_type": "code",
   "execution_count": null,
   "id": "225369cb-e06d-408a-ab21-fe611ebf5d9b",
   "metadata": {},
   "outputs": [],
   "source": [
    "sc.pl.umap(adata, color=[\"Vdr\", \"Cyp27a1\",  \"Cyp2r1\",  \"leiden\"], legend_loc=\"on data\", frameon=False, ncols=5)"
   ]
  },
  {
   "cell_type": "code",
   "execution_count": null,
   "id": "7b5ddd6f-3ad3-4b3b-9983-3b02c0407369",
   "metadata": {},
   "outputs": [],
   "source": [
    "sc.pl.violin(adata, keys=[\"Vdr\", \"Cyp27a1\", \"Cyp27b1\", \"Cyp2r1\"], groupby=\"leiden\") "
   ]
  },
  {
   "cell_type": "code",
   "execution_count": null,
   "id": "acc7e2b0-d3ec-450d-a5a5-6384e34371bb",
   "metadata": {},
   "outputs": [],
   "source": [
    "sc.tl.rank_genes_groups(adata, groupby=\"leiden\", method=\"wilcoxon\")"
   ]
  },
  {
   "cell_type": "code",
   "execution_count": null,
   "id": "efac2d21-d71c-45cb-8e06-744c5ec7d5e2",
   "metadata": {},
   "outputs": [],
   "source": [
    "#sampling\n",
    "# Genes to check\n",
    "genes_to_check = [\"Vdr\", \"Cyp27a1\", \"Cyp27b1\", \"Cyp2r1\"]\n",
    "\n",
    "# Extract the DE results\n",
    "rank_genes_groups = adata.uns[\"rank_genes_groups\"]\n",
    "\n",
    "# Initialize a dictionary to store the results\n",
    "significant_genes = {}\n",
    "\n",
    "# Check each gene in the results\n",
    "for gene in genes_to_check:\n",
    "    significant_genes[gene] = {}\n",
    "    for group in rank_genes_groups['pvals_adj'].dtype.names:\n",
    "        # Check if the gene is in the names for the current group\n",
    "        if gene in rank_genes_groups['names'][group]:\n",
    "            # Get the index of the gene in the names array\n",
    "            gene_index = list(rank_genes_groups['names'][group]).index(gene)\n",
    "            # Get the corresponding p-value\n",
    "            pval = rank_genes_groups['pvals_adj'][group][gene_index]\n",
    "            # Check if the p-value is below the threshold\n",
    "            if pval < 0.05:\n",
    "                significant_genes[gene][group] = pval\n",
    "\n",
    "# Display the results\n",
    "for gene, groups in significant_genes.items():\n",
    "    if groups:\n",
    "        print(f\"{gene} is significant in the following groups (p < 0.05):\")\n",
    "        for group, pval in groups.items():\n",
    "            print(f\"  - {group}: p-value = {pval}\")\n",
    "    else:\n",
    "        print(f\"{gene} is not significant in any group (p < 0.05).\")\n",
    "# "
   ]
  },
  {
   "cell_type": "code",
   "execution_count": null,
   "id": "5eeeebf1-8c65-4c40-bd2f-19e891d15ba2",
   "metadata": {},
   "outputs": [],
   "source": []
  },
  {
   "cell_type": "code",
   "execution_count": null,
   "id": "56707b87-5682-4993-901c-7a711bf98704",
   "metadata": {},
   "outputs": [],
   "source": [
    "import decoupler as dc\n",
    "net = dc.get_collectri(organism='human', split_complexes=False)\n",
    "new_adata = adata\n",
    "new_adata.var_names = new_adata.var_names.str.upper()\n",
    "dc.run_ulm(\n",
    "    mat=new_adata,\n",
    "    net=net,\n",
    "    source='source',\n",
    "    target='target',\n",
    "    weight='weight',\n",
    "    verbose=True,\n",
    "    use_raw=False\n",
    ")\n",
    "new_adata.obsm['collectri_ulm_estimate'] = new_adata.obsm['ulm_estimate'].copy()\n",
    "new_adata.obsm['collectri_ulm_pvals'] = new_adata.obsm['ulm_pvals'].copy()\n",
    "acts = dc.get_acts(new_adata, obsm_key='ulm_estimate')"
   ]
  },
  {
   "cell_type": "code",
   "execution_count": null,
   "id": "79d2e34d-d2fd-40d2-b551-a4f34c20a358",
   "metadata": {},
   "outputs": [],
   "source": [
    "sc.pl.umap(acts, color=['VDR', 'leiden'], cmap='RdBu_r', vcenter=0)\n",
    "sc.pl.violin(acts, keys=['VDR'], groupby='leiden', rotation=90)"
   ]
  },
  {
   "cell_type": "code",
   "execution_count": null,
   "id": "c7751026-ff80-4d70-9ab9-7650d11719a0",
   "metadata": {},
   "outputs": [],
   "source": []
  },
  {
   "cell_type": "code",
   "execution_count": null,
   "id": "fdc5ab34-10c6-4ca2-8f57-780a18f180a4",
   "metadata": {},
   "outputs": [],
   "source": []
  },
  {
   "cell_type": "code",
   "execution_count": null,
   "id": "20e99728-28e2-48c1-9919-7984b09adabe",
   "metadata": {},
   "outputs": [],
   "source": []
  },
  {
   "cell_type": "code",
   "execution_count": null,
   "id": "fc445fff-a264-4ec2-9825-b63783603bbf",
   "metadata": {},
   "outputs": [],
   "source": []
  }
 ],
 "metadata": {
  "kernelspec": {
   "display_name": "Python 3 (ipykernel)",
   "language": "python",
   "name": "python3"
  },
  "language_info": {
   "codemirror_mode": {
    "name": "ipython",
    "version": 3
   },
   "file_extension": ".py",
   "mimetype": "text/x-python",
   "name": "python",
   "nbconvert_exporter": "python",
   "pygments_lexer": "ipython3",
   "version": "3.10.11"
  }
 },
 "nbformat": 4,
 "nbformat_minor": 5
}
